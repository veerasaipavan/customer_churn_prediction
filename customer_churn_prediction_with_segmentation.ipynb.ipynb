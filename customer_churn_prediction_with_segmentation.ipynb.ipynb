{
 "cells": [
  {
   "cell_type": "markdown",
   "id": "be4adf82",
   "metadata": {},
   "source": [
    "# Customer Churn Prediction with Clustering and ML Models\n",
    "\n",
    "This notebook performs a full analysis on customer churn prediction using Logistic Regression and Random Forest. It includes EDA, feature engineering, clustering, model evaluation, and strategic recommendations."
   ]
  },
  {
   "cell_type": "code",
   "execution_count": null,
   "id": "59c58b76",
   "metadata": {},
   "outputs": [],
   "source": [
    "# Importing necessary libraries\n",
    "import pandas as pd\n",
    "import numpy as np\n",
    "import matplotlib.pyplot as plt\n",
    "import seaborn as sns\n",
    "from sklearn.cluster import KMeans\n",
    "from sklearn.model_selection import train_test_split\n",
    "from sklearn.preprocessing import StandardScaler\n",
    "from sklearn.linear_model import LogisticRegression\n",
    "from sklearn.ensemble import RandomForestClassifier\n",
    "from sklearn.metrics import accuracy_score, classification_report, confusion_matrix, roc_curve, auc, roc_auc_score"
   ]
  },
  {
   "cell_type": "markdown",
   "id": "16dbf71b",
   "metadata": {},
   "source": [
    "## Step 1: Load the Dataset"
   ]
  },
  {
   "cell_type": "code",
   "execution_count": null,
   "id": "c951a8f5",
   "metadata": {},
   "outputs": [],
   "source": [
    "data = pd.read_csv(r\"C:\\Users\\veera\\Downloads\\Bank Customer Churn Prediction.csv\")\n",
    "data.columns = data.columns.str.strip()\n",
    "print(data.columns)"
   ]
  },
  {
   "cell_type": "markdown",
   "id": "42fb469a",
   "metadata": {},
   "source": [
    "## Step 2: Exploratory Data Analysis"
   ]
  },
  {
   "cell_type": "code",
   "execution_count": null,
   "id": "bef1fc80",
   "metadata": {},
   "outputs": [],
   "source": [
    "# Check for missing values and basic statistics\n",
    "print(data.isnull().sum())\n",
    "print(data.describe())\n",
    "\n",
    "# Churn distribution\n",
    "if 'churn' in data.columns:\n",
    "    data['churn'].value_counts().plot(kind='bar')\n",
    "    plt.title('Churn Distribution')\n",
    "    plt.xlabel('Churn Status')\n",
    "    plt.ylabel('Count')\n",
    "    plt.show()\n",
    "else:\n",
    "    print(\"Churn column is missing!\")"
   ]
  },
  {
   "cell_type": "code",
   "execution_count": null,
   "id": "130962da",
   "metadata": {},
   "outputs": [],
   "source": [
    "# Boxplot: Age vs Churn\n",
    "sns.boxplot(x='churn', y='Age', data=data)\n",
    "plt.title('Age Distribution by Churn Status')\n",
    "plt.show()"
   ]
  },
  {
   "cell_type": "markdown",
   "id": "57ebe4a3",
   "metadata": {},
   "source": [
    "## Step 3: Data Preprocessing"
   ]
  },
  {
   "cell_type": "code",
   "execution_count": null,
   "id": "700776c6",
   "metadata": {},
   "outputs": [],
   "source": [
    "# Drop customer ID if present\n",
    "data = data.drop(['customerID'], axis=1, errors='ignore')\n",
    "\n",
    "# Convert churn column to binary if needed\n",
    "if data['churn'].dtype == 'object':\n",
    "    data['churn'] = data['churn'].map({'Yes': 1, 'No': 0})\n",
    "\n",
    "# Fill missing values\n",
    "data.fillna(data.mean(), inplace=True)\n",
    "\n",
    "# One-hot encode categorical columns\n",
    "data = pd.get_dummies(data, drop_first=True)"
   ]
  },
  {
   "cell_type": "markdown",
   "id": "47aa0a24",
   "metadata": {},
   "source": [
    "## Step 4: Customer Segmentation using KMeans"
   ]
  },
  {
   "cell_type": "code",
   "execution_count": null,
   "id": "f37ffa80",
   "metadata": {},
   "outputs": [],
   "source": [
    "scaler = StandardScaler()\n",
    "features = data.drop(['churn'], axis=1)\n",
    "scaled_features = scaler.fit_transform(features)\n",
    "\n",
    "kmeans = KMeans(n_clusters=3, random_state=42)\n",
    "data['Cluster'] = kmeans.fit_predict(scaled_features)\n",
    "\n",
    "sns.scatterplot(x=data['tenure'], y=data['MonthlyCharges'], hue=data['Cluster'], palette='viridis')\n",
    "plt.title('Customer Segments')\n",
    "plt.show()"
   ]
  },
  {
   "cell_type": "markdown",
   "id": "4780ced4",
   "metadata": {},
   "source": [
    "## Step 5: Train-Test Split"
   ]
  },
  {
   "cell_type": "code",
   "execution_count": null,
   "id": "bbabac64",
   "metadata": {},
   "outputs": [],
   "source": [
    "X = data.drop('churn', axis=1)\n",
    "y = data['churn']\n",
    "X_train, X_test, y_train, y_test = train_test_split(X, y, test_size=0.3, random_state=42)"
   ]
  },
  {
   "cell_type": "markdown",
   "id": "87549a28",
   "metadata": {},
   "source": [
    "## Step 6: Logistic Regression Model"
   ]
  },
  {
   "cell_type": "code",
   "execution_count": null,
   "id": "1e92b218",
   "metadata": {},
   "outputs": [],
   "source": [
    "lr_model = LogisticRegression(max_iter=1000)\n",
    "lr_model.fit(X_train, y_train)\n",
    "y_pred_lr = lr_model.predict(X_test)\n",
    "lr_acc = accuracy_score(y_test, y_pred_lr)\n",
    "lr_auc = roc_auc_score(y_test, lr_model.predict_proba(X_test)[:, 1])"
   ]
  },
  {
   "cell_type": "markdown",
   "id": "459c09d8",
   "metadata": {},
   "source": [
    "## Step 7: Random Forest Model"
   ]
  },
  {
   "cell_type": "code",
   "execution_count": null,
   "id": "0f15af97",
   "metadata": {},
   "outputs": [],
   "source": [
    "rf_model = RandomForestClassifier(n_estimators=100, random_state=42)\n",
    "rf_model.fit(X_train, y_train)\n",
    "y_pred_rf = rf_model.predict(X_test)\n",
    "rf_acc = accuracy_score(y_test, y_pred_rf)\n",
    "rf_auc = roc_auc_score(y_test, rf_model.predict_proba(X_test)[:, 1])"
   ]
  },
  {
   "cell_type": "markdown",
   "id": "2bcdedc9",
   "metadata": {},
   "source": [
    "## Step 8: Model Evaluation & Comparison"
   ]
  },
  {
   "cell_type": "code",
   "execution_count": null,
   "id": "a3851262",
   "metadata": {},
   "outputs": [],
   "source": [
    "print(f\"Logistic Regression - Accuracy: {lr_acc:.2f}, ROC-AUC: {lr_auc:.2f}\")\n",
    "print(f\"Random Forest - Accuracy: {rf_acc:.2f}, ROC-AUC: {rf_auc:.2f}\")"
   ]
  },
  {
   "cell_type": "code",
   "execution_count": null,
   "id": "4f0f67f1",
   "metadata": {},
   "outputs": [],
   "source": [
    "cm_rf = confusion_matrix(y_test, y_pred_rf)\n",
    "sns.heatmap(cm_rf, annot=True, fmt='d', cmap='Blues',\n",
    "            xticklabels=['Pred No', 'Pred Yes'],\n",
    "            yticklabels=['Actual No', 'Actual Yes'])\n",
    "plt.title('Random Forest Confusion Matrix')\n",
    "plt.show()"
   ]
  },
  {
   "cell_type": "code",
   "execution_count": null,
   "id": "ee09ee12",
   "metadata": {},
   "outputs": [],
   "source": [
    "fpr, tpr, _ = roc_curve(y_test, rf_model.predict_proba(X_test)[:, 1])\n",
    "roc_auc = auc(fpr, tpr)\n",
    "plt.plot(fpr, tpr, label=f'Random Forest (AUC = {roc_auc:.2f}')\n",
    "plt.plot([0,1],[0,1], linestyle='--', color='gray')\n",
    "plt.xlabel('False Positive Rate')\n",
    "plt.ylabel('True Positive Rate')\n",
    "plt.title('ROC Curve')\n",
    "plt.legend()\n",
    "plt.show()"
   ]
  },
  {
   "cell_type": "markdown",
   "id": "6296e6c1",
   "metadata": {},
   "source": [
    "## Step 9: Feature Importance & Strategy Suggestion"
   ]
  },
  {
   "cell_type": "code",
   "execution_count": null,
   "id": "32fd3ec0",
   "metadata": {},
   "outputs": [],
   "source": [
    "importances = pd.Series(rf_model.feature_importances_, index=X.columns)\n",
    "top_features = importances.nlargest(5)\n",
    "top_features.plot(kind='barh')\n",
    "plt.title('Top 5 Churn Predictors')\n",
    "plt.show()\n",
    "\n",
    "print(\"\\nStrategy Suggestion:\")\n",
    "print(\"Focus on high-risk customers with low tenure and high monthly charges.\")\n",
    "print(\"Introduce loyalty rewards or personalized offers to retain these customers and reduce churn by an estimated 20%.\")"
   ]
  }
 ],
 "metadata": {
  "language_info": {
   "name": "python"
  }
 },
 "nbformat": 4,
 "nbformat_minor": 5
}
